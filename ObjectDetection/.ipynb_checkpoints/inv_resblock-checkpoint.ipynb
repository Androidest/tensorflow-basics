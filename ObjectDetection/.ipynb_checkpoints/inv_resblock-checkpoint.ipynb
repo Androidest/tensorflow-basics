{
 "cells": [
  {
   "cell_type": "code",
   "execution_count": null,
   "metadata": {},
   "outputs": [],
   "source": [
    "from tensorflow.python.keras import backend\n",
    "from tensorflow.python.keras.applications import imagenet_utils\n",
    "import tensorflow.keras.layers as layers"
   ]
  },
  {
   "cell_type": "code",
   "execution_count": null,
   "metadata": {},
   "outputs": [],
   "source": [
    "def _make_divisible(v, divisor, min_value=None):\n",
    "  if min_value is None:\n",
    "    min_value = divisor\n",
    "  new_v = max(min_value, int(v + divisor / 2) // divisor * divisor)\n",
    "  # Make sure that round down does not go down by more than 10%.\n",
    "  if new_v < 0.9 * v:\n",
    "    new_v += divisor\n",
    "  return new_v\n",
    "  \n",
    "def inverted_res_block(inputs, expansion, stride, alpha, filters, block_id):\n",
    "  \"\"\"Inverted ResNet block.\"\"\"\n",
    "  channel_axis = 1 if backend.image_data_format() == 'channels_first' else -1"
   ]
  },
  {
   "cell_type": "code",
   "execution_count": null,
   "metadata": {},
   "outputs": [],
   "source": [
    "  in_channels = backend.int_shape(inputs)[channel_axis]\n",
    "  pointwise_conv_filters = int(filters * alpha)\n",
    "  pointwise_filters = _make_divisible(pointwise_conv_filters, 8)\n",
    "  x = inputs\n",
    "  prefix = 'block_{}_'.format(block_id)"
   ]
  },
  {
   "cell_type": "code",
   "execution_count": null,
   "metadata": {},
   "outputs": [],
   "source": [
    "  if block_id:\n",
    "    # Expand\n",
    "    x = layers.Conv2D(\n",
    "        expansion * in_channels,\n",
    "        kernel_size=1,\n",
    "        padding='same',\n",
    "        use_bias=False,\n",
    "        activation=None,\n",
    "        name=prefix + 'expand')(\n",
    "            x)\n",
    "    x = layers.BatchNormalization(\n",
    "        axis=channel_axis,\n",
    "        epsilon=1e-3,\n",
    "        momentum=0.999,\n",
    "        name=prefix + 'expand_BN')(\n",
    "            x)\n",
    "    x = layers.ReLU()(x)\n",
    "  else:\n",
    "    prefix = 'expanded_conv_'"
   ]
  },
  {
   "cell_type": "code",
   "execution_count": null,
   "metadata": {},
   "outputs": [],
   "source": [
    "  # Depthwise\n",
    "  if stride == 2:\n",
    "    x = layers.ZeroPadding2D(\n",
    "        padding=imagenet_utils.correct_pad(x, 3),\n",
    "        name=prefix + 'pad')(x)\n",
    "  x = layers.DepthwiseConv2D(\n",
    "      kernel_size=3,\n",
    "      strides=stride,\n",
    "      activation=None,\n",
    "      use_bias=False,\n",
    "      padding='same' if stride == 1 else 'valid',\n",
    "      name=prefix + 'depthwise')(\n",
    "          x)\n",
    "  x = layers.BatchNormalization(\n",
    "      axis=channel_axis,\n",
    "      epsilon=1e-3,\n",
    "      momentum=0.999,\n",
    "      name=prefix + 'depthwise_BN')(\n",
    "          x)"
   ]
  },
  {
   "cell_type": "code",
   "execution_count": null,
   "metadata": {},
   "outputs": [],
   "source": [
    "  x = layers.ReLU()(x)"
   ]
  },
  {
   "cell_type": "code",
   "execution_count": null,
   "metadata": {},
   "outputs": [],
   "source": [
    "  # Project\n",
    "  x = layers.Conv2D(\n",
    "      pointwise_filters,\n",
    "      kernel_size=1,\n",
    "      padding='same',\n",
    "      use_bias=False,\n",
    "      activation=None,\n",
    "      name=prefix + 'project')(\n",
    "          x)\n",
    "  x = layers.BatchNormalization(\n",
    "      axis=channel_axis,\n",
    "      epsilon=1e-3,\n",
    "      momentum=0.999,\n",
    "      name=prefix + 'project_BN')(\n",
    "          x)"
   ]
  },
  {
   "cell_type": "code",
   "execution_count": null,
   "metadata": {},
   "outputs": [],
   "source": [
    "  if in_channels == pointwise_filters and stride == 1:\n",
    "    return layers.Add(name=prefix + 'add')([inputs, x])\n",
    "  return x"
   ]
  }
 ],
 "metadata": {
  "kernelspec": {
   "display_name": "Python 3",
   "language": "python",
   "name": "python3"
  },
  "language_info": {
   "codemirror_mode": {
    "name": "ipython",
    "version": 3
   },
   "file_extension": ".py",
   "mimetype": "text/x-python",
   "name": "python",
   "nbconvert_exporter": "python",
   "pygments_lexer": "ipython3",
   "version": "3.6.4"
  }
 },
 "nbformat": 4,
 "nbformat_minor": 2
}
