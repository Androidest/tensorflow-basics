{
 "cells": [
  {
   "cell_type": "markdown",
   "metadata": {},
   "source": [
    "%%"
   ]
  },
  {
   "cell_type": "code",
   "execution_count": null,
   "metadata": {},
   "outputs": [],
   "source": [
    "import tensorflow as tf"
   ]
  },
  {
   "cell_type": "code",
   "execution_count": null,
   "metadata": {},
   "outputs": [],
   "source": [
    "class WGAN_GP(tf.keras.Model):\n",
    "    \n",
    "    def __init__(self, discriminator, generator, seed_size, dis_extra_steps=3, gp_weight=10.0):\n",
    "        super(WGAN_GP, self).__init__()\n",
    "        self.discriminator = discriminator\n",
    "        self.generator = generator\n",
    "        self.seed_size = seed_size\n",
    "        self.dis_extra_steps = dis_extra_steps\n",
    "        self.gp_weight = gp_weight\n",
    "    def compile(self, gen_opt, dis_opt, gen_loss_fn, dis_loss_fn, **kwargs):\n",
    "        super().compile(**kwargs, run_eagerly=True)\n",
    "        self.gen_opt = gen_opt\n",
    "        self.dis_opt = dis_opt\n",
    "        self.gen_loss_fn = gen_loss_fn\n",
    "        self.dis_loss_fn = dis_loss_fn\n",
    "    @ tf.function\n",
    "    def gradient_penalty(self, real_img_batch, fake_img_batch, batch_size):\n",
    "        alpha = tf.random.normal((batch_size, 1, 1, 1), 0.0, 1.0)\n",
    "        interpolated = real_img_batch + alpha * (fake_img_batch - real_img_batch)\n",
    "        with tf.GradientTape() as gp_tape:\n",
    "            gp_tape.watch(interpolated)\n",
    "            dis_pred = self.discriminator(interpolated, training=True)\n",
    "\n",
    "        # 2. Calculate the gradients w.r.t to this interpolated image.\n",
    "        grads = gp_tape.gradient(dis_pred, [interpolated])[0]\n",
    "        # 3. Calculate the norm of the gradients.\n",
    "        norm = tf.norm(grads, ord='euclidean', axis=-1)\n",
    "        # norm = tf.sqrt(tf.reduce_sum(tf.square(grads), axis=[1, 2, 3]))\n",
    "        gp = tf.reduce_mean((norm - 1.0) ** 2)\n",
    "        return gp\n",
    "    @ tf.function\n",
    "    def train_gen(self, rand_seed_batch):\n",
    "        with tf.GradientTape() as gen_tape:\n",
    "            fake_img_batch = self.generator(rand_seed_batch, training=True)\n",
    "            fake_pred = self.discriminator(fake_img_batch, training=True)\n",
    "            gen_loss = self.gen_loss_fn(fake_pred)\n",
    "        \n",
    "        gen_grad = gen_tape.gradient(gen_loss, self.generator.trainable_variables)\n",
    "        self.gen_opt.apply_gradients(zip(gen_grad, self.generator.trainable_variables))\n",
    "        return gen_loss\n",
    "    @ tf.function\n",
    "    def train_dis(self, real_img_batch, rand_seed_batch, batch_size):\n",
    "        with tf.GradientTape() as dis_tape:\n",
    "            fake_img_batch = self.generator(rand_seed_batch, training=True)\n",
    "            fake_pred = self.discriminator(fake_img_batch, training=True)\n",
    "            real_pred = self.discriminator(real_img_batch, training=True)\n",
    "            gd = self.gradient_penalty(real_img_batch, fake_img_batch, batch_size)\n",
    "            dis_loss = self.dis_loss_fn(real_pred, fake_pred) + gd * self.gp_weight\n",
    "            \n",
    "        dis_grad = dis_tape.gradient(dis_loss, self.discriminator.trainable_variables)\n",
    "        self.dis_opt.apply_gradients(zip(dis_grad, self.discriminator.trainable_variables))\n",
    "        return dis_loss\n",
    "    def train_step(self, real_img_batch):\n",
    "        batch_size = tf.shape(real_img_batch)[0]\n",
    "        for i in range(self.dis_extra_steps):\n",
    "            rand_seed_batch = tf.random.normal(shape=(batch_size, 1, 1, self.seed_size))\n",
    "            dis_loss = self.train_dis(real_img_batch, rand_seed_batch, batch_size)\n",
    "        rand_seed_batch = tf.random.normal(shape=(batch_size, 1, 1, self.seed_size))\n",
    "        gen_loss = self.train_gen(rand_seed_batch)\n",
    "        \n",
    "        return {\"dis_loss\": dis_loss, \"gen_loss\": gen_loss}"
   ]
  }
 ],
 "metadata": {
  "kernelspec": {
   "display_name": "Python 3",
   "language": "python",
   "name": "python3"
  },
  "language_info": {
   "codemirror_mode": {
    "name": "ipython",
    "version": 3
   },
   "file_extension": ".py",
   "mimetype": "text/x-python",
   "name": "python",
   "nbconvert_exporter": "python",
   "pygments_lexer": "ipython3",
   "version": "3.6.4"
  }
 },
 "nbformat": 4,
 "nbformat_minor": 2
}
