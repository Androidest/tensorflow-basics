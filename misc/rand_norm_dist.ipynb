{
 "cells": [
  {
   "cell_type": "code",
   "execution_count": null,
   "id": "e2f4866c",
   "metadata": {
    "lines_to_next_cell": 0
   },
   "outputs": [],
   "source": [
    "# Random with normal distribution \n",
    "import matplotlib.pyplot as plt\n",
    "import numpy as np\n",
    "\n",
    "# 身高 170 为均值，68.26% 左右的身高在 170 ± 10\t之间，\n",
    "# 身高取值范围基本在：170 ± 3*10 （即半径为 3*Sigma） \n",
    "# mean=170， sigma=10， arrayCount=1000000\n",
    "gausses = np.random.normal(170, 10, 1000000)  \n",
    "\n",
    "plt.figure('fig1')          #添加一个窗口\n",
    "plt.hist(gausses, bins=100, normed=False, histtype='bar', facecolor='red', alpha=0.2)\n",
    "\n",
    "plt.figure('fig2')\n",
    "plt.plot(gausses)\n",
    "\n",
    "plt.show()"
   ]
  },
  {
   "cell_type": "code",
   "execution_count": null,
   "id": "d5c264ca",
   "metadata": {},
   "outputs": [],
   "source": []
  }
 ],
 "metadata": {
  "jupytext": {
   "cell_metadata_filter": "-all",
   "formats": "ipynb,py:percent",
   "main_language": "python"
  }
 },
 "nbformat": 4,
 "nbformat_minor": 5
}
