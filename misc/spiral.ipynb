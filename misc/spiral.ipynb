{
 "cells": [
  {
   "cell_type": "code",
   "execution_count": null,
   "id": "8f3c0489",
   "metadata": {},
   "outputs": [],
   "source": [
    "import numpy as np\n",
    "import matplotlib.pyplot as plt\n",
    "\n",
    "m_dim = 1000        # m_dim 为螺旋图坐标的数据的数量，数值越大螺旋图越光滑\n",
    "n_dim = 3          # 矩阵 T 的行数 n, 即 paper 中的 n\n",
    "\n",
    "# 创建螺旋图，二维数据\n",
    "def create_spiral(m_dim):\n",
    "    x = []\n",
    "    y = []\n",
    "    for theta in np.linspace(0, 20 * np.pi, m_dim):\n",
    "        r = ((theta)**2)\n",
    "        # 计算螺旋图的坐标\n",
    "        x.append(r*np.cos(theta)) \n",
    "        y.append(r*np.sin(theta))\n",
    "    return np.array([x,y])\n",
    "\n",
    "# ReLU 激活函数\n",
    "def relu(input):\n",
    "    return np.maximum(input, 0)\n",
    "\n",
    "# 显示二维数据\n",
    "def show_image(img, title):\n",
    "    [x, y] = img\n",
    "    plt.title(title)\n",
    "    plt.plot(x, y) \n",
    "    plt.show()\n",
    "\n",
    "\n",
    "input = create_spiral(m_dim)         # shape=(2, m_dim)\n",
    "show_image(input, 'Input')           #显示螺旋图，其中隐藏着兴趣流 （mainfold of interest）\n",
    "\n",
    "# 随机一个 n x 2 矩阵T\n",
    "T = np.random.rand(n_dim, 2) - 0.5   # shape=(n_dim, 2), 随机值范围（-0.5，0.5）\n",
    "layer_output = np.dot(T, input)      # y = Tx\n",
    "\n",
    "# ReLU 激活\n",
    "layer_output = relu(layer_output) \n",
    "\n",
    "# 计算 T 的广义逆转矩阵 T^(−1)\n",
    "T_inv = np.linalg.pinv(T)\n",
    "output = np.dot(T_inv, layer_output) # 映射回二维数据：x` = T^(−1)y \n",
    "\n",
    "show_image(output, 'Output/dim='+str(n_dim))\n",
    "\n",
    "\n"
   ]
  },
  {
   "cell_type": "code",
   "execution_count": null,
   "id": "6d3f6d1f",
   "metadata": {},
   "outputs": [],
   "source": []
  }
 ],
 "metadata": {
  "jupytext": {
   "cell_metadata_filter": "-all",
   "formats": "ipynb,py:percent",
   "main_language": "python"
  }
 },
 "nbformat": 4,
 "nbformat_minor": 5
}
