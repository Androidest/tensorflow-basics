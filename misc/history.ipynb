{
 "cells": [
  {
   "cell_type": "code",
   "execution_count": null,
   "metadata": {},
   "outputs": [],
   "source": [
    "def display_history(history, curve_type='loss'):\n",
    "    history = history.history\n",
    "    if len(history) == 0:\n",
    "        return\n",
    "    \n",
    "    if not isinstance(curve_type, list):\n",
    "        curve_type = [curve_type]\n",
    "    for ctype in curve_type:\n",
    "        plt.title('model ' + ctype)\n",
    "        plt.xlabel('epoch')\n",
    "        plt.ylabel(ctype)\n",
    "        names = []\n",
    "        for curve_name in history:\n",
    "            if ctype in curve_name:\n",
    "                plt.plot(history[curve_name])\n",
    "                names.append(curve_name)\n",
    "        plt.legend(names)\n",
    "        plt.show()"
   ]
  }
 ],
 "metadata": {
  "kernelspec": {
   "display_name": "Python 3",
   "language": "python",
   "name": "python3"
  },
  "language_info": {
   "codemirror_mode": {
    "name": "ipython",
    "version": 3
   },
   "file_extension": ".py",
   "mimetype": "text/x-python",
   "name": "python",
   "nbconvert_exporter": "python",
   "pygments_lexer": "ipython3",
   "version": "3.6.4"
  }
 },
 "nbformat": 4,
 "nbformat_minor": 2
}
