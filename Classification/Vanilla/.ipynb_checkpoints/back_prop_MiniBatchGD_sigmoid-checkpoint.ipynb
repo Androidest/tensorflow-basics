{
 "cells": [
  {
   "cell_type": "code",
   "execution_count": 1,
   "id": "400436a2-6f1c-42d9-a708-4e61a907d482",
   "metadata": {},
   "outputs": [
    {
     "ename": "ModuleNotFoundError",
     "evalue": "No module named 'matplotlib'",
     "output_type": "error",
     "traceback": [
      "\u001b[1;31m---------------------------------------------------------------------------\u001b[0m",
      "\u001b[1;31mModuleNotFoundError\u001b[0m                       Traceback (most recent call last)",
      "Cell \u001b[1;32mIn[1], line 3\u001b[0m\n\u001b[0;32m      1\u001b[0m \u001b[38;5;66;03m#%%\u001b[39;00m\n\u001b[0;32m      2\u001b[0m \u001b[38;5;28;01mimport\u001b[39;00m \u001b[38;5;21;01mnumpy\u001b[39;00m \u001b[38;5;28;01mas\u001b[39;00m \u001b[38;5;21;01mnp\u001b[39;00m\n\u001b[1;32m----> 3\u001b[0m \u001b[38;5;28;01mimport\u001b[39;00m \u001b[38;5;21;01mmatplotlib\u001b[39;00m \u001b[38;5;28;01mas\u001b[39;00m \u001b[38;5;21;01mplt\u001b[39;00m\n\u001b[0;32m      4\u001b[0m \u001b[38;5;28;01mimport\u001b[39;00m \u001b[38;5;21;01mtensorflow\u001b[39;00m \u001b[38;5;28;01mas\u001b[39;00m \u001b[38;5;21;01mtf\u001b[39;00m \u001b[38;5;66;03m# to get the MNIST dataset\u001b[39;00m\n\u001b[0;32m      6\u001b[0m \u001b[38;5;66;03m# load data \u001b[39;00m\n",
      "\u001b[1;31mModuleNotFoundError\u001b[0m: No module named 'matplotlib'"
     ]
    }
   ],
   "source": [
    "\n",
    "#%%\n",
    "import numpy as np\n",
    "import matplotlib as plt\n",
    "import tensorflow as tf # to get the MNIST dataset\n",
    "\n",
    "# load data \n",
    "batch_size = 60\n",
    "learning_rate = 0.001\n",
    "\n",
    "(X,I), (TX, TY) = tf.keras.datasets.mnist.load_data()\n",
    "m, h, w = X.shape\n",
    "# Flatten images into vectors\n",
    "X = np.reshape(X, (m//batch_size, batch_size, w*h)) / 255.0\n",
    "TX = np.reshape(TX, (-1, w*h)) / 255.0\n",
    "# turn labels into one hot form\n",
    "Y = np.zeros(shape=(m, 10))\n",
    "Y[np.arange(m), I] = 1\n",
    "Y = np.reshape(Y, (m//batch_size, batch_size, 10)) \n",
    "\n",
    "# initialize output layers\n",
    "W = np.zeros(shape=(28*28, 10))\n",
    "b = np.zeros(shape=(10))\n",
    "\n",
    "for epoch in range(60):\n",
    "    for i in range(len(X)):\n",
    "        batch_x = X[i]\n",
    "        batch_y = Y[i]\n",
    "\n",
    "        y = batch_x @ W + b\n",
    "        sigmoid = 1.0 / (1.0 + np.exp(-y))\n",
    "\n",
    "        # calculate cross-entropy -> softmax gradient\n",
    "        dy = sigmoid - batch_y\n",
    "        assert dy.shape == (batch_size, 10)\n",
    "        dW = np.transpose(batch_x) @ dy / batch_size\n",
    "        assert dW.shape == W.shape\n",
    "        db = np.sum(dy, axis=0) / batch_size\n",
    "        assert db.shape == b.shape\n",
    "\n",
    "        # update parameters according to gradients\n",
    "        W  -= learning_rate*dW\n",
    "        b  -= learning_rate*db\n",
    "\n",
    "    y = np.argmax(TX @ W + b, axis=1)\n",
    "    accuracy = np.mean(y == TY)\n",
    "    print(accuracy, flush=True)\n",
    "\n",
    "\n",
    "    \n",
    "    \n",
    "\n",
    "    \n",
    "\n",
    "# %%\n"
   ]
  }
 ],
 "metadata": {
  "kernelspec": {
   "display_name": "Python-3.9.18 (tensorflow-2.6.0, opencv-4.5.5)",
   "language": "python",
   "name": "tensorflow"
  },
  "language_info": {
   "codemirror_mode": {
    "name": "ipython",
    "version": 3
   },
   "file_extension": ".py",
   "mimetype": "text/x-python",
   "name": "python",
   "nbconvert_exporter": "python",
   "pygments_lexer": "ipython3",
   "version": "3.9.18"
  }
 },
 "nbformat": 4,
 "nbformat_minor": 5
}
