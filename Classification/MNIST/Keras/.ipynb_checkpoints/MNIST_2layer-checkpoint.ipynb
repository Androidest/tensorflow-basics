{
 "cells": [
  {
   "cell_type": "code",
   "execution_count": null,
   "id": "52814566",
   "metadata": {},
   "outputs": [],
   "source": [
    "# 要添加一个新单元，输入 '# %%'\n",
    "# 要添加一个新的标记单元，输入 '# %% [markdown]'"
   ]
  },
  {
   "cell_type": "code",
   "execution_count": null,
   "id": "094269ac",
   "metadata": {
    "lines_to_next_cell": 2
   },
   "outputs": [],
   "source": [
    "# ==================== load data =============================\n",
    "import tensorflow as tf\n",
    "import numpy as np\n",
    "import matplotlib.pyplot as plt\n",
    "\n",
    "classCount = 10\n",
    "batchSize = 64\n",
    "\n",
    "def loadData(classCount, batchSize):\n",
    "    (x_train, y_train), (x_test, y_test) = tf.keras.datasets.mnist.load_data()\n",
    "    (imgWidth, imgHeight) = x_train[0].shape\n",
    "    index = np.where(y_train == 7)[0][55]\n",
    "    plt.imshow(x_train[index])\n",
    "\n",
    "    # add a channel dimension: (60000, 28, 28) -> (60000, 28, 28, 1), channel=1 with grey-scale images\n",
    "    x_train = x_train / 255\n",
    "    ds_train = tf.data.Dataset.from_tensor_slices((x_train, y_train)).shuffle(1000).batch(batchSize)\n",
    "\n",
    "    x_test = x_test / 255\n",
    "    ds_test = tf.data.Dataset.from_tensor_slices((x_test, y_test)).batch(2000)\n",
    "\n",
    "    return (ds_train, ds_test)\n",
    "\n",
    "(ds_train, ds_test) = loadData(classCount=classCount, batchSize=batchSize)    "
   ]
  },
  {
   "cell_type": "code",
   "execution_count": null,
   "id": "28eb6a91",
   "metadata": {
    "lines_to_next_cell": 2
   },
   "outputs": [],
   "source": [
    "import tensorflow.keras.layers as layers\n",
    "# ==================== train & valid data =============================\n",
    "model = tf.keras.models.Sequential([\n",
    "\n",
    "    layers.Flatten(input_shape=(28, 28)),\n",
    "    layers.Dense(128, activation='relu'),\n",
    "    layers.BatchNormalization(),\n",
    "    layers.Dropout(0.4),\n",
    "    layers.Dense(10)\n",
    "])\n",
    "\n",
    "# SparseCategoricalCrossentropy uses class indexes as labels not hot-one form\n",
    "# Replace standalone softmax layer with embeded softmax in loss function (using from_logits=True)\n",
    "# to prevent 0 inputs from softmax layer (0 input will lead error on cross-entropy)\n",
    "loss_fn = tf.keras.losses.SparseCategoricalCrossentropy(from_logits=True)\n",
    "opt_fn = tf.keras.optimizers.Adam(0.001)\n",
    "model.compile(optimizer=opt_fn, loss=loss_fn, metrics=['accuracy'])\n",
    "model.fit(x=ds_train, epochs=100, validation_data=ds_test, validation_freq=1, verbose=2)"
   ]
  },
  {
   "cell_type": "code",
   "execution_count": null,
   "id": "cb30a41e",
   "metadata": {},
   "outputs": [],
   "source": [
    "# ==================== test with opencv =============================\n",
    "import cv2\n",
    "import numpy as np\n",
    "\n",
    "canvasSize = 300\n",
    "outputSize = 28\n",
    "penSize = 15\n",
    "\n",
    "isDrawing = False\n",
    "canvas = np.zeros((canvasSize, canvasSize, 3), np.uint8)\n",
    "\n",
    "def draw(event, x, y, flags, param):\n",
    "    global canvas, isDrawing\n",
    "    if event == cv2.EVENT_LBUTTONDOWN:\n",
    "        isDrawing = True\n",
    "    elif event == cv2.EVENT_MOUSEMOVE and isDrawing:\n",
    "        cv2.circle(canvas, (x,y), penSize, (255, 255, 255), -1)\n",
    "    elif event == cv2.EVENT_LBUTTONUP:\n",
    "        isDrawing = False\n",
    "        greyImg = tf.image.rgb_to_grayscale(tf.image.resize(canvas, size=(outputSize, outputSize)))\n",
    "        visualInput = tf.reshape(greyImg, shape=(1,28,28)) / 255\n",
    "        predict = tf.argmax(model.predict(visualInput), axis=1).numpy()[0]\n",
    "        result = np.zeros((canvasSize, canvasSize, 3), np.uint8)\n",
    "        cv2.putText(result, str(predict), (100,200), cv2.FONT_HERSHEY_COMPLEX, 6, (0,255,0), 25)\n",
    "        cv2.imshow('MNIST Result', result)\n",
    "    \n",
    "    if event == cv2.EVENT_RBUTTONDOWN:\n",
    "        canvas = np.zeros((canvasSize, canvasSize, 3), np.uint8)\n",
    "\n",
    "cv2.namedWindow('MNIST Classifier')\n",
    "cv2.setMouseCallback('MNIST Classifier', draw)\n",
    "\n",
    "while(1):\n",
    "    cv2.imshow('MNIST Classifier', canvas)\n",
    "    key = cv2.waitKey(1)\n",
    "    if key != -1 and key != 255:\n",
    "        break\n",
    "cv2.destroyAllWindows()\n",
    "\n"
   ]
  },
  {
   "cell_type": "code",
   "execution_count": null,
   "id": "3a1c1528",
   "metadata": {},
   "outputs": [],
   "source": []
  }
 ],
 "metadata": {
  "jupytext": {
   "cell_metadata_filter": "-all",
   "formats": "ipynb,py:percent",
   "main_language": "python"
  }
 },
 "nbformat": 4,
 "nbformat_minor": 5
}
