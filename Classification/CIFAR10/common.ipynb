{
 "cells": [
  {
   "cell_type": "code",
   "execution_count": null,
   "metadata": {},
   "outputs": [],
   "source": [
    "import tkinter as tk\n",
    "from mss import mss\n",
    "import cv2\n",
    "import numpy as np"
   ]
  },
  {
   "cell_type": "code",
   "execution_count": null,
   "metadata": {},
   "outputs": [],
   "source": [
    "def videoCapture(winName, winwidth, winHeight, callback):\n",
    "    videoCap = cv2.VideoCapture(0)\n",
    "    cv2.namedWindow(winName)\n",
    "    \n",
    "    while(True):\n",
    "        ret, frame = videoCap.read()\n",
    "        if ret==True:\n",
    "            frame = cv2.flip(frame, 1)\n",
    "            (h, w, _) = frame.shape\n",
    "            cx, cy = int((w-winwidth)/2), int((h-winHeight)/2)\n",
    "            frame = frame[cy:cy+winHeight, cx:cx+winHeight]\n",
    "            callback(frame)\n",
    "        key = cv2.waitKey(1)\n",
    "        if key != -1 and key != 255:\n",
    "            videoCap.release()\n",
    "            cv2.destroyAllWindows()\n",
    "            break"
   ]
  },
  {
   "cell_type": "code",
   "execution_count": null,
   "metadata": {},
   "outputs": [],
   "source": [
    "def screenCapture(winName, winwidth, winHeight, callback):\n",
    "    window = tk.Tk()\n",
    "    geo = str(winwidth)+'x'+str(winHeight)\n",
    "    window.geometry(geo)\n",
    "    window.wm_attributes('-alpha', 0.1)\n",
    "    cv2.namedWindow(winName)\n",
    "    with mss() as sct:\n",
    "        while True:\n",
    "            window.update()\n",
    "            [_, left, top] = window.geometry().split(\"+\")\n",
    "            img = sct.grab({'left':int(left)+8, 'top':int(top)+30, 'width': winwidth, 'height': winHeight})\n",
    "            frame = np.array(img)[:,:,0:3]\n",
    "            callback(frame)\n",
    "            key = cv2.waitKey(1)\n",
    "            if key != -1 and key != 255:            \n",
    "                cv2.destroyAllWindows()\n",
    "                window.quit()\n",
    "                break"
   ]
  }
 ],
 "metadata": {
  "kernelspec": {
   "display_name": "Python 3",
   "language": "python",
   "name": "python3"
  },
  "language_info": {
   "codemirror_mode": {
    "name": "ipython",
    "version": 3
   },
   "file_extension": ".py",
   "mimetype": "text/x-python",
   "name": "python",
   "nbconvert_exporter": "python",
   "pygments_lexer": "ipython3",
   "version": "3.6.4"
  }
 },
 "nbformat": 4,
 "nbformat_minor": 2
}
