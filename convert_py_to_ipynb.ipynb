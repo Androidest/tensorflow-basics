{
 "cells": [
  {
   "cell_type": "code",
   "execution_count": 3,
   "metadata": {},
   "outputs": [
    {
     "ename": "NameError",
     "evalue": "name 'ipynb_file_path' is not defined",
     "output_type": "error",
     "traceback": [
      "\u001b[1;31m---------------------------------------------------------------------------\u001b[0m",
      "\u001b[1;31mNameError\u001b[0m                                 Traceback (most recent call last)",
      "Cell \u001b[1;32mIn[3], line 34\u001b[0m\n\u001b[0;32m     32\u001b[0m current_directory \u001b[38;5;241m=\u001b[39m os\u001b[38;5;241m.\u001b[39mgetcwd()\n\u001b[0;32m     33\u001b[0m \u001b[38;5;66;03m# resave_as_utf8('D:\\\\ZProjects\\\\AI\\\\tensorflow-basics\\\\Classification\\\\CIFAR10\\\\CIFAR10_FCNN2_DA.py')\u001b[39;00m\n\u001b[1;32m---> 34\u001b[0m \u001b[43mconvert_py_to_ipynb\u001b[49m\u001b[43m(\u001b[49m\u001b[43mcurrent_directory\u001b[49m\u001b[43m)\u001b[49m\n",
      "Cell \u001b[1;32mIn[3], line 26\u001b[0m, in \u001b[0;36mconvert_py_to_ipynb\u001b[1;34m(directory)\u001b[0m\n\u001b[0;32m     24\u001b[0m result \u001b[38;5;241m=\u001b[39m subprocess\u001b[38;5;241m.\u001b[39mrun(command, shell\u001b[38;5;241m=\u001b[39m\u001b[38;5;28;01mTrue\u001b[39;00m)\n\u001b[0;32m     25\u001b[0m \u001b[38;5;28;01mif\u001b[39;00m result\u001b[38;5;241m.\u001b[39mreturncode \u001b[38;5;241m==\u001b[39m \u001b[38;5;241m0\u001b[39m:\n\u001b[1;32m---> 26\u001b[0m     \u001b[38;5;28mprint\u001b[39m(\u001b[38;5;124mf\u001b[39m\u001b[38;5;124m\"\u001b[39m\u001b[38;5;124mConverted: \u001b[39m\u001b[38;5;132;01m{\u001b[39;00mpy_file_path\u001b[38;5;132;01m}\u001b[39;00m\u001b[38;5;124m to \u001b[39m\u001b[38;5;132;01m{\u001b[39;00mipynb_file_path\u001b[38;5;132;01m}\u001b[39;00m\u001b[38;5;130;01m\\n\u001b[39;00m\u001b[38;5;124m\"\u001b[39m)\n\u001b[0;32m     27\u001b[0m \u001b[38;5;28;01melse\u001b[39;00m:\n\u001b[0;32m     28\u001b[0m     \u001b[38;5;28mprint\u001b[39m(\u001b[38;5;124mf\u001b[39m\u001b[38;5;124m\"\u001b[39m\u001b[38;5;124mFailed to convert: \u001b[39m\u001b[38;5;132;01m{\u001b[39;00mpy_file_path\u001b[38;5;132;01m}\u001b[39;00m\u001b[38;5;124m\"\u001b[39m)\n",
      "\u001b[1;31mNameError\u001b[0m: name 'ipynb_file_path' is not defined"
     ]
    }
   ],
   "source": [
    "import os\n",
    "import subprocess\n",
    "\n",
    "def resave_as_utf8(file_path):\n",
    "    try:\n",
    "        # Read the content of the file\n",
    "        with open(file_path, 'r', encoding='utf-8', errors='ignore') as file:\n",
    "            content = file.read()\n",
    "        \n",
    "        # Write the content back with UTF-8 encoding\n",
    "        with open(file_path, 'w', encoding='utf-8') as file:\n",
    "            file.write(content)\n",
    "        print(f\"Resaved {file_path} with UTF-8 encoding\")\n",
    "    except Exception as e:\n",
    "        print(f\"Failed to resave {file_path}: {e}\")\n",
    "\n",
    "def convert_py_to_ipynb(directory):\n",
    "    for root, dirs, files in os.walk(directory):\n",
    "        for file in files:\n",
    "            if file.endswith(\".py\"):\n",
    "                py_file_path = os.path.join(root, file)\n",
    "                ipynb_file_path = os.path.splitext(py_file_path)[0] + '.ipynb'\n",
    "                # Run the p2j command\n",
    "                command = 'jupytext --to notebook --set-formats ipynb,py:percent --update ' + py_file_path\n",
    "                result = subprocess.run(command, shell=True)\n",
    "                if result.returncode == 0:\n",
    "                    print(f\"Converted: {py_file_path} to {ipynb_file_path}\\n\")\n",
    "                else:\n",
    "                    print(f\"Failed to convert: {py_file_path}\")\n",
    "                    print(result.stderr)\n",
    "\n",
    "if __name__ == \"__main__\":\n",
    "    current_directory = os.getcwd()\n",
    "    # resave_as_utf8('D:\\\\ZProjects\\\\AI\\\\tensorflow-basics\\\\Classification\\\\CIFAR10\\\\CIFAR10_FCNN2_DA.py')\n",
    "    convert_py_to_ipynb(current_directory)\n",
    "\n"
   ]
  },
  {
   "cell_type": "code",
   "execution_count": null,
   "metadata": {},
   "outputs": [],
   "source": []
  }
 ],
 "metadata": {
  "kernelspec": {
   "display_name": "Python 3 (ipykernel)",
   "language": "python",
   "name": "python3"
  },
  "language_info": {
   "codemirror_mode": {
    "name": "ipython",
    "version": 3
   },
   "file_extension": ".py",
   "mimetype": "text/x-python",
   "name": "python",
   "nbconvert_exporter": "python",
   "pygments_lexer": "ipython3",
   "version": "3.9.18"
  }
 },
 "nbformat": 4,
 "nbformat_minor": 4
}
